{
 "cells": [
  {
   "cell_type": "code",
   "execution_count": null,
   "metadata": {},
   "outputs": [],
   "source": [
    "import os\n",
    "os.chdir('images')\n",
    "os.getcwd()\n",
    "src_files = os.listdir()\n",
    "to_append = 'data/custom/images/'\n",
    "final_dir = []\n",
    "for i in src_files:\n",
    "    final_dir.append(to_append+i)\n",
    "f= open(\"train.txt\",\"w+\")\n",
    "for i in final_dir:\n",
    "    f.write(i+'\\n')\n",
    "f.close()"
   ]
  }
 ],
 "metadata": {
  "kernelspec": {
   "display_name": "Python 3",
   "language": "python",
   "name": "python3"
  },
  "language_info": {
   "codemirror_mode": {
    "name": "ipython",
    "version": 3
   },
   "file_extension": ".py",
   "mimetype": "text/x-python",
   "name": "python",
   "nbconvert_exporter": "python",
   "pygments_lexer": "ipython3",
   "version": "3.7.4"
  }
 },
 "nbformat": 4,
 "nbformat_minor": 2
}
