{
 "cells": [
  {
   "cell_type": "code",
   "execution_count": 1,
   "metadata": {},
   "outputs": [],
   "source": [
    "import os\n",
    "print(os.getcwd())\n",
    "src_files = os.listdir()"
   ]
  },
  {
   "cell_type": "code",
   "execution_count": 6,
   "metadata": {},
   "outputs": [
    {
     "data": {
      "text/plain": [
       "['new_labels',\n",
       " '.ipynb_checkpoints',\n",
       " 'labels',\n",
       " 'train.txt',\n",
       " 'valid.txt',\n",
       " 'images',\n",
       " 'maskData',\n",
       " 'classes.names',\n",
       " 'data_ann.ipynb',\n",
       " 'imagesv0',\n",
       " 'wandb',\n",
       " 'update_data.ipynb']"
      ]
     },
     "execution_count": 6,
     "metadata": {},
     "output_type": "execute_result"
    }
   ],
   "source": [
    "src_files"
   ]
  },
  {
   "cell_type": "code",
   "execution_count": 2,
   "metadata": {},
   "outputs": [],
   "source": [
    "files_rem = []"
   ]
  },
  {
   "cell_type": "code",
   "execution_count": null,
   "metadata": {},
   "outputs": [],
   "source": [
    "\n",
    "    "
   ]
  },
  {
   "cell_type": "code",
   "execution_count": 3,
   "metadata": {},
   "outputs": [
    {
     "data": {
      "text/plain": [
       "0"
      ]
     },
     "execution_count": 3,
     "metadata": {},
     "output_type": "execute_result"
    }
   ],
   "source": [
    "len(files_rem)"
   ]
  },
  {
   "cell_type": "code",
   "execution_count": null,
   "metadata": {},
   "outputs": [
    {
     "data": {
      "text/html": [
       "\n",
       "                Logging results to <a href=\"https://wandb.com\" target=\"_blank\">Weights & Biases</a> <a href=\"https://docs.wandb.com/integrations/jupyter.html\" target=\"_blank\">(Documentation)</a>.<br/>\n",
       "                Project page: <a href=\"https://app.wandb.ai/authors/artifact-workplace-safety\" target=\"_blank\">https://app.wandb.ai/authors/artifact-workplace-safety</a><br/>\n",
       "                Run page: <a href=\"https://app.wandb.ai/authors/artifact-workplace-safety/runs/3505647r\" target=\"_blank\">https://app.wandb.ai/authors/artifact-workplace-safety/runs/3505647r</a><br/>\n",
       "            "
      ],
      "text/plain": [
       "<IPython.core.display.HTML object>"
      ]
     },
     "metadata": {},
     "output_type": "display_data"
    }
   ],
   "source": [
    "import wandb\n",
    "run = wandb.init(project=\"artifact-workplace-safety\",job_type='update_Labels',name='processing')\n",
    "\n",
    "artifact = run.use_artifact('authors/artifact-workplace-safety/train_test_data:v0', type='dataset')\n",
    "artifact_dir = artifact.download()"
   ]
  },
  {
   "cell_type": "code",
   "execution_count": 4,
   "metadata": {},
   "outputs": [],
   "source": [
    "for label in os.listdir('labels'):\n",
    "    label_file = open('labels/'+label,'r')\n",
    "    valid_labels = []\n",
    "    labels =  label_file.readlines()\n",
    "\n",
    "    for updated_label in labels:\n",
    "        if updated_label[0]=='2':\n",
    "            files_rem.append(label)\n",
    "            continue\n",
    "        valid_labels.append(updated_label) \n",
    "    if len(valid_labels) != 0:\n",
    "        for updated_label in valid_labels:\n",
    "            new_label_file = open('new_labels/'+label,'w')\n",
    "            new_label_file.write(updated_label)\n",
    "            new_label_file.close()\n",
    "\n",
    "    label_file.close()\n",
    "    "
   ]
  },
  {
   "cell_type": "code",
   "execution_count": 7,
   "metadata": {
    "scrolled": true
   },
   "outputs": [
    {
     "data": {
      "text/plain": [
       "717"
      ]
     },
     "execution_count": 7,
     "metadata": {},
     "output_type": "execute_result"
    }
   ],
   "source": [
    "len(files_rem)"
   ]
  },
  {
   "cell_type": "code",
   "execution_count": 8,
   "metadata": {},
   "outputs": [],
   "source": [
    "files_rem = list(set(files_rem))"
   ]
  },
  {
   "cell_type": "code",
   "execution_count": 10,
   "metadata": {},
   "outputs": [
    {
     "data": {
      "text/plain": [
       "['maksssksksss559.txt',\n",
       " 'maksssksksss528.txt',\n",
       " 'maksssksksss471.txt',\n",
       " 'maksssksksss299.txt',\n",
       " 'maksssksksss797.txt',\n",
       " 'maksssksksss411.txt',\n",
       " 'maksssksksss655.txt',\n",
       " 'maksssksksss729.txt',\n",
       " 'maksssksksss647.txt',\n",
       " 'maksssksksss564.txt',\n",
       " 'maksssksksss280.txt',\n",
       " 'maksssksksss270.txt',\n",
       " 'maksssksksss365.txt',\n",
       " 'maksssksksss841.txt',\n",
       " 'maksssksksss575.txt',\n",
       " 'maksssksksss7.txt',\n",
       " 'maksssksksss751.txt',\n",
       " 'maksssksksss817.txt',\n",
       " 'maksssksksss75.txt',\n",
       " 'maksssksksss680.txt',\n",
       " 'maksssksksss402.txt',\n",
       " 'maksssksksss128.txt',\n",
       " 'maksssksksss703.txt',\n",
       " 'maksssksksss455.txt',\n",
       " 'maksssksksss316.txt',\n",
       " 'maksssksksss168.txt',\n",
       " 'maksssksksss373.txt',\n",
       " 'maksssksksss386.txt',\n",
       " 'maksssksksss424.txt',\n",
       " 'maksssksksss182.txt',\n",
       " 'maksssksksss179.txt',\n",
       " 'maksssksksss829.txt',\n",
       " 'maksssksksss352.txt',\n",
       " 'maksssksksss821.txt',\n",
       " 'maksssksksss577.txt',\n",
       " 'maksssksksss110.txt',\n",
       " 'maksssksksss726.txt',\n",
       " 'maksssksksss477.txt',\n",
       " 'maksssksksss420.txt',\n",
       " 'maksssksksss408.txt',\n",
       " 'maksssksksss540.txt',\n",
       " 'maksssksksss172.txt',\n",
       " 'maksssksksss279.txt',\n",
       " 'maksssksksss71.txt',\n",
       " 'maksssksksss113.txt',\n",
       " 'maksssksksss223.txt',\n",
       " 'maksssksksss732.txt',\n",
       " 'maksssksksss613.txt',\n",
       " 'maksssksksss698.txt',\n",
       " 'maksssksksss94.txt',\n",
       " 'maksssksksss514.txt',\n",
       " 'maksssksksss538.txt',\n",
       " 'maksssksksss181.txt',\n",
       " 'maksssksksss51.txt',\n",
       " 'maksssksksss419.txt',\n",
       " 'maksssksksss125.txt',\n",
       " 'maksssksksss548.txt',\n",
       " 'maksssksksss153.txt',\n",
       " 'maksssksksss498.txt',\n",
       " 'maksssksksss757.txt',\n",
       " 'maksssksksss473.txt',\n",
       " 'maksssksksss209.txt',\n",
       " 'maksssksksss753.txt',\n",
       " 'maksssksksss119.txt',\n",
       " 'maksssksksss719.txt',\n",
       " 'maksssksksss249.txt',\n",
       " 'maksssksksss137.txt',\n",
       " 'maksssksksss370.txt',\n",
       " 'maksssksksss134.txt',\n",
       " 'maksssksksss770.txt',\n",
       " 'maksssksksss261.txt',\n",
       " 'maksssksksss621.txt',\n",
       " 'maksssksksss529.txt',\n",
       " 'maksssksksss401.txt',\n",
       " 'maksssksksss343.txt',\n",
       " 'maksssksksss310.txt',\n",
       " 'maksssksksss52.txt',\n",
       " 'maksssksksss717.txt',\n",
       " 'maksssksksss483.txt',\n",
       " 'maksssksksss236.txt',\n",
       " 'maksssksksss9.txt',\n",
       " 'maksssksksss176.txt',\n",
       " 'maksssksksss349.txt',\n",
       " 'maksssksksss40.txt',\n",
       " 'maksssksksss1.txt',\n",
       " 'maksssksksss482.txt',\n",
       " 'maksssksksss578.txt',\n",
       " 'maksssksksss342.txt',\n",
       " 'maksssksksss818.txt',\n",
       " 'maksssksksss375.txt',\n",
       " 'maksssksksss585.txt',\n",
       " 'maksssksksss254.txt',\n",
       " 'maksssksksss250.txt',\n",
       " 'maksssksksss824.txt',\n",
       " 'maksssksksss305.txt',\n",
       " 'maksssksksss609.txt',\n",
       " 'maksssksksss656.txt',\n",
       " 'maksssksksss361.txt',\n",
       " 'maksssksksss544.txt',\n",
       " 'maksssksksss217.txt',\n",
       " 'maksssksksss387.txt',\n",
       " 'maksssksksss847.txt',\n",
       " 'maksssksksss257.txt',\n",
       " 'maksssksksss302.txt',\n",
       " 'maksssksksss239.txt',\n",
       " 'maksssksksss571.txt',\n",
       " 'maksssksksss624.txt',\n",
       " 'maksssksksss347.txt',\n",
       " 'maksssksksss636.txt',\n",
       " 'maksssksksss772.txt',\n",
       " 'maksssksksss194.txt',\n",
       " 'maksssksksss623.txt',\n",
       " 'maksssksksss699.txt',\n",
       " 'maksssksksss154.txt',\n",
       " 'maksssksksss537.txt',\n",
       " 'maksssksksss785.txt',\n",
       " 'maksssksksss317.txt',\n",
       " 'maksssksksss502.txt',\n",
       " 'maksssksksss567.txt',\n",
       " 'maksssksksss603.txt',\n",
       " 'maksssksksss716.txt',\n",
       " 'maksssksksss131.txt',\n",
       " 'maksssksksss388.txt',\n",
       " 'maksssksksss620.txt',\n",
       " 'maksssksksss126.txt',\n",
       " 'maksssksksss579.txt',\n",
       " 'maksssksksss443.txt',\n",
       " 'maksssksksss64.txt',\n",
       " 'maksssksksss627.txt',\n",
       " 'maksssksksss561.txt',\n",
       " 'maksssksksss534.txt',\n",
       " 'maksssksksss696.txt',\n",
       " 'maksssksksss795.txt',\n",
       " 'maksssksksss822.txt',\n",
       " 'maksssksksss723.txt',\n",
       " 'maksssksksss301.txt',\n",
       " 'maksssksksss178.txt',\n",
       " 'maksssksksss444.txt',\n",
       " 'maksssksksss701.txt',\n",
       " 'maksssksksss535.txt',\n",
       " 'maksssksksss684.txt',\n",
       " 'maksssksksss467.txt',\n",
       " 'maksssksksss189.txt',\n",
       " 'maksssksksss92.txt',\n",
       " 'maksssksksss19.txt',\n",
       " 'maksssksksss486.txt',\n",
       " 'maksssksksss121.txt',\n",
       " 'maksssksksss319.txt',\n",
       " 'maksssksksss54.txt',\n",
       " 'maksssksksss522.txt',\n",
       " 'maksssksksss619.txt',\n",
       " 'maksssksksss442.txt',\n",
       " 'maksssksksss44.txt',\n",
       " 'maksssksksss74.txt',\n",
       " 'maksssksksss48.txt',\n",
       " 'maksssksksss86.txt',\n",
       " 'maksssksksss95.txt',\n",
       " 'maksssksksss159.txt',\n",
       " 'maksssksksss539.txt',\n",
       " 'maksssksksss487.txt',\n",
       " 'maksssksksss114.txt',\n",
       " 'maksssksksss715.txt',\n",
       " 'maksssksksss45.txt',\n",
       " 'maksssksksss750.txt',\n",
       " 'maksssksksss495.txt',\n",
       " 'maksssksksss38.txt',\n",
       " 'maksssksksss222.txt',\n",
       " 'maksssksksss183.txt',\n",
       " 'maksssksksss294.txt',\n",
       " 'maksssksksss130.txt',\n",
       " 'maksssksksss702.txt',\n",
       " 'maksssksksss248.txt',\n",
       " 'maksssksksss296.txt',\n",
       " 'maksssksksss151.txt',\n",
       " 'maksssksksss672.txt',\n",
       " 'maksssksksss216.txt',\n",
       " 'maksssksksss325.txt',\n",
       " 'maksssksksss570.txt',\n",
       " 'maksssksksss147.txt',\n",
       " 'maksssksksss565.txt',\n",
       " 'maksssksksss327.txt',\n",
       " 'maksssksksss674.txt',\n",
       " 'maksssksksss521.txt',\n",
       " 'maksssksksss385.txt',\n",
       " 'maksssksksss475.txt',\n",
       " 'maksssksksss240.txt',\n",
       " 'maksssksksss543.txt',\n",
       " 'maksssksksss5.txt',\n",
       " 'maksssksksss476.txt',\n",
       " 'maksssksksss852.txt',\n",
       " 'maksssksksss297.txt',\n",
       " 'maksssksksss111.txt',\n",
       " 'maksssksksss164.txt',\n",
       " 'maksssksksss244.txt',\n",
       " 'maksssksksss526.txt',\n",
       " 'maksssksksss157.txt',\n",
       " 'maksssksksss129.txt',\n",
       " 'maksssksksss289.txt',\n",
       " 'maksssksksss661.txt',\n",
       " 'maksssksksss660.txt',\n",
       " 'maksssksksss72.txt',\n",
       " 'maksssksksss263.txt',\n",
       " 'maksssksksss384.txt',\n",
       " 'maksssksksss30.txt',\n",
       " 'maksssksksss268.txt',\n",
       " 'maksssksksss104.txt',\n",
       " 'maksssksksss837.txt',\n",
       " 'maksssksksss584.txt',\n",
       " 'maksssksksss451.txt',\n",
       " 'maksssksksss460.txt',\n",
       " 'maksssksksss276.txt',\n",
       " 'maksssksksss251.txt',\n",
       " 'maksssksksss379.txt',\n",
       " 'maksssksksss65.txt',\n",
       " 'maksssksksss641.txt',\n",
       " 'maksssksksss221.txt',\n",
       " 'maksssksksss530.txt',\n",
       " 'maksssksksss336.txt',\n",
       " 'maksssksksss96.txt',\n",
       " 'maksssksksss787.txt',\n",
       " 'maksssksksss61.txt',\n",
       " 'maksssksksss657.txt',\n",
       " 'maksssksksss345.txt',\n",
       " 'maksssksksss616.txt',\n",
       " 'maksssksksss374.txt',\n",
       " 'maksssksksss334.txt',\n",
       " 'maksssksksss773.txt',\n",
       " 'maksssksksss396.txt',\n",
       " 'maksssksksss318.txt',\n",
       " 'maksssksksss14.txt',\n",
       " 'maksssksksss359.txt',\n",
       " 'maksssksksss453.txt',\n",
       " 'maksssksksss321.txt',\n",
       " 'maksssksksss253.txt',\n",
       " 'maksssksksss801.txt',\n",
       " 'maksssksksss389.txt',\n",
       " 'maksssksksss320.txt',\n",
       " 'maksssksksss83.txt',\n",
       " 'maksssksksss759.txt',\n",
       " 'maksssksksss823.txt',\n",
       " 'maksssksksss499.txt',\n",
       " 'maksssksksss695.txt',\n",
       " 'maksssksksss457.txt',\n",
       " 'maksssksksss124.txt',\n",
       " 'maksssksksss690.txt',\n",
       " 'maksssksksss527.txt',\n",
       " 'maksssksksss842.txt',\n",
       " 'maksssksksss545.txt',\n",
       " 'maksssksksss156.txt',\n",
       " 'maksssksksss634.txt',\n",
       " 'maksssksksss404.txt',\n",
       " 'maksssksksss673.txt',\n",
       " 'maksssksksss206.txt',\n",
       " 'maksssksksss399.txt',\n",
       " 'maksssksksss760.txt',\n",
       " 'maksssksksss348.txt',\n",
       " 'maksssksksss735.txt',\n",
       " 'maksssksksss34.txt',\n",
       " 'maksssksksss139.txt',\n",
       " 'maksssksksss618.txt',\n",
       " 'maksssksksss108.txt',\n",
       " 'maksssksksss682.txt',\n",
       " 'maksssksksss307.txt',\n",
       " 'maksssksksss381.txt',\n",
       " 'maksssksksss777.txt',\n",
       " 'maksssksksss784.txt',\n",
       " 'maksssksksss21.txt',\n",
       " 'maksssksksss518.txt',\n",
       " 'maksssksksss12.txt',\n",
       " 'maksssksksss489.txt',\n",
       " 'maksssksksss809.txt',\n",
       " 'maksssksksss218.txt',\n",
       " 'maksssksksss70.txt',\n",
       " 'maksssksksss615.txt',\n",
       " 'maksssksksss161.txt',\n",
       " 'maksssksksss340.txt',\n",
       " 'maksssksksss710.txt',\n",
       " 'maksssksksss68.txt',\n",
       " 'maksssksksss792.txt',\n",
       " 'maksssksksss523.txt',\n",
       " 'maksssksksss0.txt',\n",
       " 'maksssksksss558.txt',\n",
       " 'maksssksksss49.txt',\n",
       " 'maksssksksss458.txt',\n",
       " 'maksssksksss145.txt',\n",
       " 'maksssksksss148.txt']"
      ]
     },
     "execution_count": 10,
     "metadata": {},
     "output_type": "execute_result"
    }
   ],
   "source": [
    "files_rem"
   ]
  },
  {
   "cell_type": "code",
   "execution_count": 11,
   "metadata": {},
   "outputs": [],
   "source": [
    "for file in files_rem:\n",
    "    file1 = file.lower().replace(\".txt\", \".png\")\n",
    "    file2 = file.lower().replace(\".txt\",\".jpg\")\n",
    "    file3 = file.lower().replace(\".txt\",\".jpeg\")\n",
    "    if os.path.exists(\"images/\"+file1):\n",
    "        os.remove(\"images/\"+file1)\n",
    "    if os.path.exists(\"images/\"+file2):\n",
    "        os.remove(\"images/\"+file2)\n",
    "    if os.path.exists(\"images/\"+file3):\n",
    "        os.remove(\"images/\"+file3)\n",
    "    "
   ]
  },
  {
   "cell_type": "code",
   "execution_count": 53,
   "metadata": {},
   "outputs": [
    {
     "name": "stderr",
     "output_type": "stream",
     "text": [
      "\u001b[34m\u001b[1mwandb\u001b[0m: Adding directory to artifact (./images)... Done. 0.2s\n",
      "\u001b[34m\u001b[1mwandb\u001b[0m: Adding directory to artifact (./labels)... Done. 0.2s\n"
     ]
    }
   ],
   "source": [
    "artifact_data = wandb.Artifact(name='train_test_data',type='dataset')\n",
    "artifact_data.add_dir('images/')\n",
    "artifact_data.add_dir('labels/')\n",
    "\n"
   ]
  },
  {
   "cell_type": "code",
   "execution_count": 54,
   "metadata": {},
   "outputs": [],
   "source": [
    "artifact_data.add_file('train.txt')"
   ]
  },
  {
   "cell_type": "code",
   "execution_count": 55,
   "metadata": {},
   "outputs": [],
   "source": [
    "artifact_data.add_file('valid.txt')"
   ]
  },
  {
   "cell_type": "code",
   "execution_count": 56,
   "metadata": {},
   "outputs": [
    {
     "data": {
      "text/plain": [
       "<wandb.artifacts.Artifact at 0x7f61d86f8640>"
      ]
     },
     "execution_count": 56,
     "metadata": {},
     "output_type": "execute_result"
    }
   ],
   "source": [
    "run.log_artifact(artifact_data)"
   ]
  },
  {
   "cell_type": "code",
   "execution_count": 24,
   "metadata": {},
   "outputs": [
    {
     "data": {
      "text/html": [
       "\n",
       "                Logging results to <a href=\"https://wandb.com\" target=\"_blank\">Weights & Biases</a> <a href=\"https://docs.wandb.com/integrations/jupyter.html\" target=\"_blank\">(Documentation)</a>.<br/>\n",
       "                Project page: <a href=\"https://app.wandb.ai/authors/artifact-workplace-safety\" target=\"_blank\">https://app.wandb.ai/authors/artifact-workplace-safety</a><br/>\n",
       "                Run page: <a href=\"https://app.wandb.ai/authors/artifact-workplace-safety/runs/218om1v7\" target=\"_blank\">https://app.wandb.ai/authors/artifact-workplace-safety/runs/218om1v7</a><br/>\n",
       "            "
      ],
      "text/plain": [
       "<IPython.core.display.HTML object>"
      ]
     },
     "metadata": {},
     "output_type": "display_data"
    },
    {
     "name": "stderr",
     "output_type": "stream",
     "text": [
      "400 response executing GraphQL.\n",
      "{\"errors\":[{\"message\":\"cannot use artifact QXJ0aWZhY3Q6NzI3Nw== as it has not committed\",\"path\":[\"useArtifact\"]}],\"data\":{\"useArtifact\":null}}\n",
      "\u001b[34m\u001b[1mwandb\u001b[0m: \u001b[32m\u001b[41mERROR\u001b[0m Error while calling W&B API: cannot use artifact QXJ0aWZhY3Q6NzI3Nw== as it has not committed (<Response [400]>)\n"
     ]
    },
    {
     "ename": "HTTPError",
     "evalue": "400 Client Error: Bad Request for url: https://api.wandb.ai/graphql",
     "output_type": "error",
     "traceback": [
      "\u001b[0;31m---------------------------------------------------------------------------\u001b[0m",
      "\u001b[0;31mHTTPError\u001b[0m                                 Traceback (most recent call last)",
      "\u001b[0;32m<ipython-input-24-c36b5be5e2d9>\u001b[0m in \u001b[0;36m<module>\u001b[0;34m\u001b[0m\n\u001b[1;32m      2\u001b[0m \u001b[0mrun\u001b[0m \u001b[0;34m=\u001b[0m \u001b[0mwandb\u001b[0m\u001b[0;34m.\u001b[0m\u001b[0minit\u001b[0m\u001b[0;34m(\u001b[0m\u001b[0;34m)\u001b[0m\u001b[0;34m\u001b[0m\u001b[0;34m\u001b[0m\u001b[0m\n\u001b[1;32m      3\u001b[0m \u001b[0;34m\u001b[0m\u001b[0m\n\u001b[0;32m----> 4\u001b[0;31m \u001b[0martifact\u001b[0m \u001b[0;34m=\u001b[0m \u001b[0mrun\u001b[0m\u001b[0;34m.\u001b[0m\u001b[0muse_artifact\u001b[0m\u001b[0;34m(\u001b[0m\u001b[0;34m'authors/artifact-workplace-safety/train_test_data:v1'\u001b[0m\u001b[0;34m,\u001b[0m \u001b[0mtype\u001b[0m\u001b[0;34m=\u001b[0m\u001b[0;34m'dataset'\u001b[0m\u001b[0;34m)\u001b[0m\u001b[0;34m\u001b[0m\u001b[0;34m\u001b[0m\u001b[0m\n\u001b[0m\u001b[1;32m      5\u001b[0m \u001b[0martifact_dir\u001b[0m \u001b[0;34m=\u001b[0m \u001b[0martifact\u001b[0m\u001b[0;34m.\u001b[0m\u001b[0mdownload\u001b[0m\u001b[0;34m(\u001b[0m\u001b[0;34m)\u001b[0m\u001b[0;34m\u001b[0m\u001b[0;34m\u001b[0m\u001b[0m\n",
      "\u001b[0;32m~/anaconda3/envs/acstable/lib/python3.8/site-packages/wandb/wandb_run.py\u001b[0m in \u001b[0;36muse_artifact\u001b[0;34m(self, artifact, type, aliases)\u001b[0m\n\u001b[1;32m    455\u001b[0m                 raise ValueError('Supplied type {} does not match type {} of artifact {}'.format(\n\u001b[1;32m    456\u001b[0m                     type, artifact.type, artifact.name))\n\u001b[0;32m--> 457\u001b[0;31m             \u001b[0mself\u001b[0m\u001b[0;34m.\u001b[0m\u001b[0mapi\u001b[0m\u001b[0;34m.\u001b[0m\u001b[0muse_artifact\u001b[0m\u001b[0;34m(\u001b[0m\u001b[0martifact\u001b[0m\u001b[0;34m.\u001b[0m\u001b[0mid\u001b[0m\u001b[0;34m)\u001b[0m\u001b[0;34m\u001b[0m\u001b[0;34m\u001b[0m\u001b[0m\n\u001b[0m\u001b[1;32m    458\u001b[0m             \u001b[0;32mreturn\u001b[0m \u001b[0martifact\u001b[0m\u001b[0;34m\u001b[0m\u001b[0;34m\u001b[0m\u001b[0m\n\u001b[1;32m    459\u001b[0m         \u001b[0;32melse\u001b[0m\u001b[0;34m:\u001b[0m\u001b[0;34m\u001b[0m\u001b[0;34m\u001b[0m\u001b[0m\n",
      "\u001b[0;32m~/anaconda3/envs/acstable/lib/python3.8/site-packages/wandb/apis/internal.py\u001b[0m in \u001b[0;36muse_artifact\u001b[0;34m(self, artifact_id, entity_name, project_name, run_name)\u001b[0m\n\u001b[1;32m   1032\u001b[0m         \u001b[0mrun_name\u001b[0m \u001b[0;34m=\u001b[0m \u001b[0mrun_name\u001b[0m \u001b[0;32mor\u001b[0m \u001b[0mself\u001b[0m\u001b[0;34m.\u001b[0m\u001b[0mcurrent_run_id\u001b[0m\u001b[0;34m\u001b[0m\u001b[0;34m\u001b[0m\u001b[0m\n\u001b[1;32m   1033\u001b[0m \u001b[0;34m\u001b[0m\u001b[0m\n\u001b[0;32m-> 1034\u001b[0;31m         response = self.gql(query, variable_values={\n\u001b[0m\u001b[1;32m   1035\u001b[0m             \u001b[0;34m'entityName'\u001b[0m\u001b[0;34m:\u001b[0m \u001b[0mentity_name\u001b[0m\u001b[0;34m,\u001b[0m\u001b[0;34m\u001b[0m\u001b[0;34m\u001b[0m\u001b[0m\n\u001b[1;32m   1036\u001b[0m             \u001b[0;34m'projectName'\u001b[0m\u001b[0;34m:\u001b[0m \u001b[0mproject_name\u001b[0m\u001b[0;34m,\u001b[0m\u001b[0;34m\u001b[0m\u001b[0;34m\u001b[0m\u001b[0m\n",
      "\u001b[0;32m~/anaconda3/envs/acstable/lib/python3.8/site-packages/wandb/retry.py\u001b[0m in \u001b[0;36m__call__\u001b[0;34m(self, *args, **kwargs)\u001b[0m\n\u001b[1;32m     93\u001b[0m         \u001b[0;32mwhile\u001b[0m \u001b[0;32mTrue\u001b[0m\u001b[0;34m:\u001b[0m\u001b[0;34m\u001b[0m\u001b[0;34m\u001b[0m\u001b[0m\n\u001b[1;32m     94\u001b[0m             \u001b[0;32mtry\u001b[0m\u001b[0;34m:\u001b[0m\u001b[0;34m\u001b[0m\u001b[0;34m\u001b[0m\u001b[0m\n\u001b[0;32m---> 95\u001b[0;31m                 \u001b[0mresult\u001b[0m \u001b[0;34m=\u001b[0m \u001b[0mself\u001b[0m\u001b[0;34m.\u001b[0m\u001b[0m_call_fn\u001b[0m\u001b[0;34m(\u001b[0m\u001b[0;34m*\u001b[0m\u001b[0margs\u001b[0m\u001b[0;34m,\u001b[0m \u001b[0;34m**\u001b[0m\u001b[0mkwargs\u001b[0m\u001b[0;34m)\u001b[0m\u001b[0;34m\u001b[0m\u001b[0;34m\u001b[0m\u001b[0m\n\u001b[0m\u001b[1;32m     96\u001b[0m                 \u001b[0;32mif\u001b[0m \u001b[0;32mnot\u001b[0m \u001b[0mfirst\u001b[0m\u001b[0;34m:\u001b[0m\u001b[0;34m\u001b[0m\u001b[0;34m\u001b[0m\u001b[0m\n\u001b[1;32m     97\u001b[0m                     wandb.termlog('{} resolved after {}, resuming normal operation.'.format(\n",
      "\u001b[0;32m~/anaconda3/envs/acstable/lib/python3.8/site-packages/wandb/apis/internal.py\u001b[0m in \u001b[0;36mexecute\u001b[0;34m(self, *args, **kwargs)\u001b[0m\n\u001b[1;32m    112\u001b[0m             \u001b[0mlogger\u001b[0m\u001b[0;34m.\u001b[0m\u001b[0merror\u001b[0m\u001b[0;34m(\u001b[0m\u001b[0mres\u001b[0m\u001b[0;34m.\u001b[0m\u001b[0mtext\u001b[0m\u001b[0;34m)\u001b[0m\u001b[0;34m\u001b[0m\u001b[0;34m\u001b[0m\u001b[0m\n\u001b[1;32m    113\u001b[0m             \u001b[0mself\u001b[0m\u001b[0;34m.\u001b[0m\u001b[0mdisplay_gorilla_error_if_found\u001b[0m\u001b[0;34m(\u001b[0m\u001b[0mres\u001b[0m\u001b[0;34m)\u001b[0m\u001b[0;34m\u001b[0m\u001b[0;34m\u001b[0m\u001b[0m\n\u001b[0;32m--> 114\u001b[0;31m             \u001b[0msix\u001b[0m\u001b[0;34m.\u001b[0m\u001b[0mreraise\u001b[0m\u001b[0;34m(\u001b[0m\u001b[0;34m*\u001b[0m\u001b[0msys\u001b[0m\u001b[0;34m.\u001b[0m\u001b[0mexc_info\u001b[0m\u001b[0;34m(\u001b[0m\u001b[0;34m)\u001b[0m\u001b[0;34m)\u001b[0m\u001b[0;34m\u001b[0m\u001b[0;34m\u001b[0m\u001b[0m\n\u001b[0m\u001b[1;32m    115\u001b[0m \u001b[0;34m\u001b[0m\u001b[0m\n\u001b[1;32m    116\u001b[0m     \u001b[0;32mdef\u001b[0m \u001b[0mdisplay_gorilla_error_if_found\u001b[0m\u001b[0;34m(\u001b[0m\u001b[0mself\u001b[0m\u001b[0;34m,\u001b[0m \u001b[0mres\u001b[0m\u001b[0;34m)\u001b[0m\u001b[0;34m:\u001b[0m\u001b[0;34m\u001b[0m\u001b[0;34m\u001b[0m\u001b[0m\n",
      "\u001b[0;32m~/anaconda3/envs/acstable/lib/python3.8/site-packages/six.py\u001b[0m in \u001b[0;36mreraise\u001b[0;34m(tp, value, tb)\u001b[0m\n\u001b[1;32m    701\u001b[0m             \u001b[0;32mif\u001b[0m \u001b[0mvalue\u001b[0m\u001b[0;34m.\u001b[0m\u001b[0m__traceback__\u001b[0m \u001b[0;32mis\u001b[0m \u001b[0;32mnot\u001b[0m \u001b[0mtb\u001b[0m\u001b[0;34m:\u001b[0m\u001b[0;34m\u001b[0m\u001b[0;34m\u001b[0m\u001b[0m\n\u001b[1;32m    702\u001b[0m                 \u001b[0;32mraise\u001b[0m \u001b[0mvalue\u001b[0m\u001b[0;34m.\u001b[0m\u001b[0mwith_traceback\u001b[0m\u001b[0;34m(\u001b[0m\u001b[0mtb\u001b[0m\u001b[0;34m)\u001b[0m\u001b[0;34m\u001b[0m\u001b[0;34m\u001b[0m\u001b[0m\n\u001b[0;32m--> 703\u001b[0;31m             \u001b[0;32mraise\u001b[0m \u001b[0mvalue\u001b[0m\u001b[0;34m\u001b[0m\u001b[0;34m\u001b[0m\u001b[0m\n\u001b[0m\u001b[1;32m    704\u001b[0m         \u001b[0;32mfinally\u001b[0m\u001b[0;34m:\u001b[0m\u001b[0;34m\u001b[0m\u001b[0;34m\u001b[0m\u001b[0m\n\u001b[1;32m    705\u001b[0m             \u001b[0mvalue\u001b[0m \u001b[0;34m=\u001b[0m \u001b[0;32mNone\u001b[0m\u001b[0;34m\u001b[0m\u001b[0;34m\u001b[0m\u001b[0m\n",
      "\u001b[0;32m~/anaconda3/envs/acstable/lib/python3.8/site-packages/wandb/apis/internal.py\u001b[0m in \u001b[0;36mexecute\u001b[0;34m(self, *args, **kwargs)\u001b[0m\n\u001b[1;32m    106\u001b[0m         \u001b[0;34m\"\"\"Wrapper around execute that logs in cases of failure.\"\"\"\u001b[0m\u001b[0;34m\u001b[0m\u001b[0;34m\u001b[0m\u001b[0m\n\u001b[1;32m    107\u001b[0m         \u001b[0;32mtry\u001b[0m\u001b[0;34m:\u001b[0m\u001b[0;34m\u001b[0m\u001b[0;34m\u001b[0m\u001b[0m\n\u001b[0;32m--> 108\u001b[0;31m             \u001b[0;32mreturn\u001b[0m \u001b[0mself\u001b[0m\u001b[0;34m.\u001b[0m\u001b[0mclient\u001b[0m\u001b[0;34m.\u001b[0m\u001b[0mexecute\u001b[0m\u001b[0;34m(\u001b[0m\u001b[0;34m*\u001b[0m\u001b[0margs\u001b[0m\u001b[0;34m,\u001b[0m \u001b[0;34m**\u001b[0m\u001b[0mkwargs\u001b[0m\u001b[0;34m)\u001b[0m\u001b[0;34m\u001b[0m\u001b[0;34m\u001b[0m\u001b[0m\n\u001b[0m\u001b[1;32m    109\u001b[0m         \u001b[0;32mexcept\u001b[0m \u001b[0mrequests\u001b[0m\u001b[0;34m.\u001b[0m\u001b[0mexceptions\u001b[0m\u001b[0;34m.\u001b[0m\u001b[0mHTTPError\u001b[0m \u001b[0;32mas\u001b[0m \u001b[0merr\u001b[0m\u001b[0;34m:\u001b[0m\u001b[0;34m\u001b[0m\u001b[0;34m\u001b[0m\u001b[0m\n\u001b[1;32m    110\u001b[0m             \u001b[0mres\u001b[0m \u001b[0;34m=\u001b[0m \u001b[0merr\u001b[0m\u001b[0;34m.\u001b[0m\u001b[0mresponse\u001b[0m\u001b[0;34m\u001b[0m\u001b[0;34m\u001b[0m\u001b[0m\n",
      "\u001b[0;32m~/anaconda3/envs/acstable/lib/python3.8/site-packages/gql/client.py\u001b[0m in \u001b[0;36mexecute\u001b[0;34m(self, document, *args, **kwargs)\u001b[0m\n\u001b[1;32m     50\u001b[0m             \u001b[0mself\u001b[0m\u001b[0;34m.\u001b[0m\u001b[0mvalidate\u001b[0m\u001b[0;34m(\u001b[0m\u001b[0mdocument\u001b[0m\u001b[0;34m)\u001b[0m\u001b[0;34m\u001b[0m\u001b[0;34m\u001b[0m\u001b[0m\n\u001b[1;32m     51\u001b[0m \u001b[0;34m\u001b[0m\u001b[0m\n\u001b[0;32m---> 52\u001b[0;31m         \u001b[0mresult\u001b[0m \u001b[0;34m=\u001b[0m \u001b[0mself\u001b[0m\u001b[0;34m.\u001b[0m\u001b[0m_get_result\u001b[0m\u001b[0;34m(\u001b[0m\u001b[0mdocument\u001b[0m\u001b[0;34m,\u001b[0m \u001b[0;34m*\u001b[0m\u001b[0margs\u001b[0m\u001b[0;34m,\u001b[0m \u001b[0;34m**\u001b[0m\u001b[0mkwargs\u001b[0m\u001b[0;34m)\u001b[0m\u001b[0;34m\u001b[0m\u001b[0;34m\u001b[0m\u001b[0m\n\u001b[0m\u001b[1;32m     53\u001b[0m         \u001b[0;32mif\u001b[0m \u001b[0mresult\u001b[0m\u001b[0;34m.\u001b[0m\u001b[0merrors\u001b[0m\u001b[0;34m:\u001b[0m\u001b[0;34m\u001b[0m\u001b[0;34m\u001b[0m\u001b[0m\n\u001b[1;32m     54\u001b[0m             \u001b[0;32mraise\u001b[0m \u001b[0mException\u001b[0m\u001b[0;34m(\u001b[0m\u001b[0mstr\u001b[0m\u001b[0;34m(\u001b[0m\u001b[0mresult\u001b[0m\u001b[0;34m.\u001b[0m\u001b[0merrors\u001b[0m\u001b[0;34m[\u001b[0m\u001b[0;36m0\u001b[0m\u001b[0;34m]\u001b[0m\u001b[0;34m)\u001b[0m\u001b[0;34m)\u001b[0m\u001b[0;34m\u001b[0m\u001b[0;34m\u001b[0m\u001b[0m\n",
      "\u001b[0;32m~/anaconda3/envs/acstable/lib/python3.8/site-packages/gql/client.py\u001b[0m in \u001b[0;36m_get_result\u001b[0;34m(self, document, *args, **kwargs)\u001b[0m\n\u001b[1;32m     58\u001b[0m     \u001b[0;32mdef\u001b[0m \u001b[0m_get_result\u001b[0m\u001b[0;34m(\u001b[0m\u001b[0mself\u001b[0m\u001b[0;34m,\u001b[0m \u001b[0mdocument\u001b[0m\u001b[0;34m,\u001b[0m \u001b[0;34m*\u001b[0m\u001b[0margs\u001b[0m\u001b[0;34m,\u001b[0m \u001b[0;34m**\u001b[0m\u001b[0mkwargs\u001b[0m\u001b[0;34m)\u001b[0m\u001b[0;34m:\u001b[0m\u001b[0;34m\u001b[0m\u001b[0;34m\u001b[0m\u001b[0m\n\u001b[1;32m     59\u001b[0m         \u001b[0;32mif\u001b[0m \u001b[0;32mnot\u001b[0m \u001b[0mself\u001b[0m\u001b[0;34m.\u001b[0m\u001b[0mretries\u001b[0m\u001b[0;34m:\u001b[0m\u001b[0;34m\u001b[0m\u001b[0;34m\u001b[0m\u001b[0m\n\u001b[0;32m---> 60\u001b[0;31m             \u001b[0;32mreturn\u001b[0m \u001b[0mself\u001b[0m\u001b[0;34m.\u001b[0m\u001b[0mtransport\u001b[0m\u001b[0;34m.\u001b[0m\u001b[0mexecute\u001b[0m\u001b[0;34m(\u001b[0m\u001b[0mdocument\u001b[0m\u001b[0;34m,\u001b[0m \u001b[0;34m*\u001b[0m\u001b[0margs\u001b[0m\u001b[0;34m,\u001b[0m \u001b[0;34m**\u001b[0m\u001b[0mkwargs\u001b[0m\u001b[0;34m)\u001b[0m\u001b[0;34m\u001b[0m\u001b[0;34m\u001b[0m\u001b[0m\n\u001b[0m\u001b[1;32m     61\u001b[0m \u001b[0;34m\u001b[0m\u001b[0m\n\u001b[1;32m     62\u001b[0m         \u001b[0mlast_exception\u001b[0m \u001b[0;34m=\u001b[0m \u001b[0;32mNone\u001b[0m\u001b[0;34m\u001b[0m\u001b[0;34m\u001b[0m\u001b[0m\n",
      "\u001b[0;32m~/anaconda3/envs/acstable/lib/python3.8/site-packages/gql/transport/requests.py\u001b[0m in \u001b[0;36mexecute\u001b[0;34m(self, document, variable_values, timeout)\u001b[0m\n\u001b[1;32m     37\u001b[0m         }\n\u001b[1;32m     38\u001b[0m         \u001b[0mrequest\u001b[0m \u001b[0;34m=\u001b[0m \u001b[0mrequests\u001b[0m\u001b[0;34m.\u001b[0m\u001b[0mpost\u001b[0m\u001b[0;34m(\u001b[0m\u001b[0mself\u001b[0m\u001b[0;34m.\u001b[0m\u001b[0murl\u001b[0m\u001b[0;34m,\u001b[0m \u001b[0;34m**\u001b[0m\u001b[0mpost_args\u001b[0m\u001b[0;34m)\u001b[0m\u001b[0;34m\u001b[0m\u001b[0;34m\u001b[0m\u001b[0m\n\u001b[0;32m---> 39\u001b[0;31m         \u001b[0mrequest\u001b[0m\u001b[0;34m.\u001b[0m\u001b[0mraise_for_status\u001b[0m\u001b[0;34m(\u001b[0m\u001b[0;34m)\u001b[0m\u001b[0;34m\u001b[0m\u001b[0;34m\u001b[0m\u001b[0m\n\u001b[0m\u001b[1;32m     40\u001b[0m \u001b[0;34m\u001b[0m\u001b[0m\n\u001b[1;32m     41\u001b[0m         \u001b[0mresult\u001b[0m \u001b[0;34m=\u001b[0m \u001b[0mrequest\u001b[0m\u001b[0;34m.\u001b[0m\u001b[0mjson\u001b[0m\u001b[0;34m(\u001b[0m\u001b[0;34m)\u001b[0m\u001b[0;34m\u001b[0m\u001b[0;34m\u001b[0m\u001b[0m\n",
      "\u001b[0;32m~/anaconda3/envs/acstable/lib/python3.8/site-packages/requests/models.py\u001b[0m in \u001b[0;36mraise_for_status\u001b[0;34m(self)\u001b[0m\n\u001b[1;32m    939\u001b[0m \u001b[0;34m\u001b[0m\u001b[0m\n\u001b[1;32m    940\u001b[0m         \u001b[0;32mif\u001b[0m \u001b[0mhttp_error_msg\u001b[0m\u001b[0;34m:\u001b[0m\u001b[0;34m\u001b[0m\u001b[0;34m\u001b[0m\u001b[0m\n\u001b[0;32m--> 941\u001b[0;31m             \u001b[0;32mraise\u001b[0m \u001b[0mHTTPError\u001b[0m\u001b[0;34m(\u001b[0m\u001b[0mhttp_error_msg\u001b[0m\u001b[0;34m,\u001b[0m \u001b[0mresponse\u001b[0m\u001b[0;34m=\u001b[0m\u001b[0mself\u001b[0m\u001b[0;34m)\u001b[0m\u001b[0;34m\u001b[0m\u001b[0;34m\u001b[0m\u001b[0m\n\u001b[0m\u001b[1;32m    942\u001b[0m \u001b[0;34m\u001b[0m\u001b[0m\n\u001b[1;32m    943\u001b[0m     \u001b[0;32mdef\u001b[0m \u001b[0mclose\u001b[0m\u001b[0;34m(\u001b[0m\u001b[0mself\u001b[0m\u001b[0;34m)\u001b[0m\u001b[0;34m:\u001b[0m\u001b[0;34m\u001b[0m\u001b[0;34m\u001b[0m\u001b[0m\n",
      "\u001b[0;31mHTTPError\u001b[0m: 400 Client Error: Bad Request for url: https://api.wandb.ai/graphql"
     ]
    }
   ],
   "source": [
    "import wandb\n",
    "run = wandb.init()\n",
    "\n",
    "artifact = run.use_artifact('authors/artifact-workplace-safety/train_test_data:v1', type='dataset')\n",
    "artifact_dir = artifact.download()"
   ]
  },
  {
   "cell_type": "code",
   "execution_count": null,
   "metadata": {},
   "outputs": [],
   "source": [
    "path.lower().replace(\"images\", \"labels\").replace(\".png\", \".txt\").replace(\".jpg\", \".txt\").replace(\".jpeg\", \".txt\").replace(\".jpeg\", \".txt\")"
   ]
  }
 ],
 "metadata": {
  "kernelspec": {
   "display_name": "Python 3",
   "language": "python",
   "name": "python3"
  },
  "language_info": {
   "codemirror_mode": {
    "name": "ipython",
    "version": 3
   },
   "file_extension": ".py",
   "mimetype": "text/x-python",
   "name": "python",
   "nbconvert_exporter": "python",
   "pygments_lexer": "ipython3",
   "version": "3.8.3"
  }
 },
 "nbformat": 4,
 "nbformat_minor": 4
}
