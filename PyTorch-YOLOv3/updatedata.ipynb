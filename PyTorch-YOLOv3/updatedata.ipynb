{
 "cells": [
  {
   "cell_type": "code",
   "execution_count": null,
   "metadata": {},
   "outputs": [],
   "source": [
    "import wandb\n",
    "run = wandb.init(project=\"artifact-workplace-safety\",job_type='update_Labels',name='processing')\n",
    "\n",
    "artifact = run.use_artifact('authors/artifact-workplace-safety/train_test_data:v4', type='dataset')\n",
    "#artifact_dir = artifact.download()"
   ]
  },
  {
   "cell_type": "code",
   "execution_count": 6,
   "metadata": {},
   "outputs": [
    {
     "data": {
      "text/html": [
       "\n",
       "                Logging results to <a href=\"https://wandb.com\" target=\"_blank\">Weights & Biases</a> <a href=\"https://docs.wandb.com/integrations/jupyter.html\" target=\"_blank\">(Documentation)</a>.<br/>\n",
       "                Project page: <a href=\"https://app.wandb.ai/authors/artifact-workplace-safety\" target=\"_blank\">https://app.wandb.ai/authors/artifact-workplace-safety</a><br/>\n",
       "                Run page: <a href=\"https://app.wandb.ai/authors/artifact-workplace-safety/runs/310txnvj\" target=\"_blank\">https://app.wandb.ai/authors/artifact-workplace-safety/runs/310txnvj</a><br/>\n",
       "            "
      ],
      "text/plain": [
       "<IPython.core.display.HTML object>"
      ]
     },
     "metadata": {},
     "output_type": "display_data"
    },
    {
     "name": "stderr",
     "output_type": "stream",
     "text": [
      "\u001b[34m\u001b[1mwandb\u001b[0m: Adding directory to artifact (./data/custom/images)... Done. 0.9s\n",
      "\u001b[34m\u001b[1mwandb\u001b[0m: Adding directory to artifact (./data/custom/labels)... Done. 0.2s\n",
      "\u001b[34m\u001b[1mwandb\u001b[0m: Wandb version 0.9.4 is available!  To upgrade, please run:\n",
      "\u001b[34m\u001b[1mwandb\u001b[0m:  $ pip install wandb --upgrade\n"
     ]
    },
    {
     "data": {
      "text/plain": [
       "<wandb.artifacts.Artifact at 0x7fda4b93b820>"
      ]
     },
     "execution_count": 6,
     "metadata": {},
     "output_type": "execute_result"
    }
   ],
   "source": [
    "import wandb\n",
    "run = wandb.init(project=\"artifact-workplace-safety\",job_type='update_Labels',name='processing')\n",
    "artifact = wandb.Artifact('train_test_data',type='dataset')\n",
    "artifact.add_dir('data/custom/images')\n",
    "artifact.add_dir('data/custom/labels')\n",
    "artifact.add_file('data/custom/valid.txt')\n",
    "artifact.add_file('data/custom/train.txt')\n",
    "run.use_artifact(artifact)\n"
   ]
  },
  {
   "cell_type": "code",
   "execution_count": 11,
   "metadata": {},
   "outputs": [
    {
     "data": {
      "text/html": [
       "\n",
       "                Logging results to <a href=\"https://wandb.com\" target=\"_blank\">Weights & Biases</a> <a href=\"https://docs.wandb.com/integrations/jupyter.html\" target=\"_blank\">(Documentation)</a>.<br/>\n",
       "                Project page: <a href=\"https://app.wandb.ai/authors/artifact-workplace-safety\" target=\"_blank\">https://app.wandb.ai/authors/artifact-workplace-safety</a><br/>\n",
       "                Run page: <a href=\"https://app.wandb.ai/authors/artifact-workplace-safety/runs/1a5ru0o8\" target=\"_blank\">https://app.wandb.ai/authors/artifact-workplace-safety/runs/1a5ru0o8</a><br/>\n",
       "            "
      ],
      "text/plain": [
       "<IPython.core.display.HTML object>"
      ]
     },
     "metadata": {},
     "output_type": "display_data"
    },
    {
     "name": "stderr",
     "output_type": "stream",
     "text": [
      "\u001b[34m\u001b[1mwandb\u001b[0m: Wandb version 0.9.4 is available!  To upgrade, please run:\n",
      "\u001b[34m\u001b[1mwandb\u001b[0m:  $ pip install wandb --upgrade\n"
     ]
    }
   ],
   "source": [
    "import wandb\n",
    "run = wandb.init()\n",
    "\n",
    "artifact = run.use_artifact('authors/artifact-workplace-safety/train_test_data:v5', type='dataset')\n",
    "#artifact_dir = artifact.download()"
   ]
  },
  {
   "cell_type": "code",
   "execution_count": 12,
   "metadata": {},
   "outputs": [
    {
     "name": "stderr",
     "output_type": "stream",
     "text": [
      "\u001b[34m\u001b[1mwandb\u001b[0m: Adding directory to artifact (./data/custom/images)... Done. 0.2s\n",
      "\u001b[34m\u001b[1mwandb\u001b[0m: Adding directory to artifact (./data/custom/labels)... Done. 0.2s\n"
     ]
    }
   ],
   "source": [
    "artifact_data = wandb.Artifact(name='train_test_data',type='dataset')\n",
    "artifact_data.add_dir('data/custom/images')\n",
    "artifact_data.add_dir('data/custom/labels')\n"
   ]
  },
  {
   "cell_type": "code",
   "execution_count": 13,
   "metadata": {},
   "outputs": [],
   "source": [
    "artifact_data.add_file('data/custom/train.txt')\n"
   ]
  },
  {
   "cell_type": "code",
   "execution_count": 14,
   "metadata": {},
   "outputs": [],
   "source": [
    "artifact_data.add_file('data/custom/valid.txt')\n"
   ]
  },
  {
   "cell_type": "code",
   "execution_count": 15,
   "metadata": {},
   "outputs": [
    {
     "name": "stderr",
     "output_type": "stream",
     "text": [
      "\u001b[34m\u001b[1mwandb\u001b[0m: Wandb version 0.9.4 is available!  To upgrade, please run:\n",
      "\u001b[34m\u001b[1mwandb\u001b[0m:  $ pip install wandb --upgrade\n"
     ]
    },
    {
     "data": {
      "text/plain": [
       "<wandb.artifacts.Artifact at 0x7fda286492b0>"
      ]
     },
     "execution_count": 15,
     "metadata": {},
     "output_type": "execute_result"
    }
   ],
   "source": [
    "run.log_artifact(artifact_data)"
   ]
  },
  {
   "cell_type": "code",
   "execution_count": null,
   "metadata": {},
   "outputs": [],
   "source": []
  }
 ],
 "metadata": {
  "kernelspec": {
   "display_name": "Python 3",
   "language": "python",
   "name": "python3"
  },
  "language_info": {
   "codemirror_mode": {
    "name": "ipython",
    "version": 3
   },
   "file_extension": ".py",
   "mimetype": "text/x-python",
   "name": "python",
   "nbconvert_exporter": "python",
   "pygments_lexer": "ipython3",
   "version": "3.8.3"
  }
 },
 "nbformat": 4,
 "nbformat_minor": 4
}
